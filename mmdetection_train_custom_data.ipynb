{
 "cells": [
  {
   "cell_type": "code",
   "execution_count": 1,
   "metadata": {
    "colab": {},
    "colab_type": "code",
    "id": "IUB0TkVJJ751"
   },
   "outputs": [],
   "source": [
    "# we can add more model configs like below.\n",
    "MODELS_CONFIG = {\n",
    "    'faster_rcnn_r50_fpn_1x': {\n",
    "        'config_file': 'configs/pascal_voc/faster_rcnn_r50_fpn_1x_voc0712.py'\n",
    "    },\n",
    "    'cascade_rcnn_r50_fpn_1x': {\n",
    "        'config_file': 'configs/cascade_rcnn_r50_fpn_1x.py',\n",
    "    },\n",
    "    'retinanet_r50_fpn_1x': {\n",
    "        'config_file': 'configs/retinanet_r50_fpn_1x.py',\n",
    "    }\n",
    "}"
   ]
  },
  {
   "cell_type": "code",
   "execution_count": 2,
   "metadata": {
    "colab": {},
    "colab_type": "code",
    "id": "GGTdkzBJJ71E"
   },
   "outputs": [],
   "source": [
    "git_repo_url = 'https://github.com/rishavbhurtel/damage_detection'\n",
    "\n",
    "# Select a model in `MODELS_CONFIG`.\n",
    "selected_model = 'faster_rcnn_r50_fpn_1x'  # 'cascade_rcnn_r50_fpn_1x'\n",
    "\n",
    "# Total training epochs.\n",
    "total_epochs = 8\n",
    "\n",
    "# Name of the config file.\n",
    "config_file = MODELS_CONFIG[selected_model]['config_file']"
   ]
  },
  {
   "cell_type": "code",
   "execution_count": null,
   "metadata": {
    "colab": {},
    "colab_type": "code",
    "id": "tsAkdXVP99NC"
   },
   "outputs": [
    {
     "name": "stdout",
     "output_type": "stream",
     "text": [
      "[Errno 2] No such file or directory: '/content'\n",
      "/home/rishav/Documents/damage_detection\n",
      "Collecting mmcv-full\n",
      "\u001b[33m  WARNING: Retrying (Retry(total=4, connect=None, read=None, redirect=None, status=None)) after connection broken by 'ReadTimeoutError(\"HTTPSConnectionPool(host='files.pythonhosted.org', port=443): Read timed out. (read timeout=15)\")': /packages/4f/69/4e3105e612f5f7523a4ba801f7de7c95de923e982d4237aa1c62bfba4ba1/mmcv-full-1.0.4.tar.gz\u001b[0m\n",
      "\u001b[33m  WARNING: Retrying (Retry(total=3, connect=None, read=None, redirect=None, status=None)) after connection broken by 'ReadTimeoutError(\"HTTPSConnectionPool(host='files.pythonhosted.org', port=443): Read timed out. (read timeout=15)\")': /packages/4f/69/4e3105e612f5f7523a4ba801f7de7c95de923e982d4237aa1c62bfba4ba1/mmcv-full-1.0.4.tar.gz\u001b[0m\n"
     ]
    }
   ],
   "source": [
    "import os\n",
    "from os.path import exists, join, basename, splitext\n",
    "\n",
    "%cd /content\n",
    "project_name = os.path.abspath(splitext(basename(git_repo_url))[0])\n",
    "mmdetection_dir = os.path.join(project_name, \"mmdetection\")\n",
    "if not exists(project_name):\n",
    "    # clone \"depth 1\" will only get the latest copy of the relevant files.\n",
    "    !git clone -q --recurse-submodules --depth 1 $git_repo_url\n",
    "    print(\"Update mmdetection repo\")\n",
    "    !cd {mmdetection_dir} && git checkout master && git pull\n",
    "    # dependencies\n",
    "    !pip install -q mmcv terminaltables\n",
    "    # build\n",
    "    !cd {mmdetection_dir} && python setup.py install\n",
    "    !pip install -r {os.path.join(mmdetection_dir, \"requirements.txt\")}\n",
    "\n",
    "\n",
    "import sys\n",
    "sys.path.append(mmdetection_dir)\n",
    "import time\n",
    "import matplotlib\n",
    "import matplotlib.pylab as plt\n",
    "plt.rcParams[\"axes.grid\"] = False"
   ]
  },
  {
   "cell_type": "code",
   "execution_count": null,
   "metadata": {
    "colab": {
     "base_uri": "https://localhost:8080/",
     "height": 35
    },
    "colab_type": "code",
    "id": "yLdioJJzIDB8",
    "outputId": "1527e9d9-91f4-4d19-fa84-74c49c6e98b8"
   },
   "outputs": [],
   "source": [
    "%cd {project_name}"
   ]
  },
  {
   "cell_type": "code",
   "execution_count": null,
   "metadata": {
    "colab": {},
    "colab_type": "code",
    "id": "ngMDpgzhJGRB"
   },
   "outputs": [],
   "source": [
    "import os\n",
    "import glob\n",
    "import pandas as pd\n",
    "import xml.etree.ElementTree as ET"
   ]
  },
  {
   "cell_type": "code",
   "execution_count": null,
   "metadata": {
    "colab": {},
    "colab_type": "code",
    "id": "trb6ARYuJGNK"
   },
   "outputs": [],
   "source": [
    "anno_path = os.path.join(project_name, \"data/VOC2007/annotations\")\n",
    "voc_file = os.path.join(mmdetection_dir, \"mmdet/datasets/voc.py\")"
   ]
  },
  {
   "cell_type": "code",
   "execution_count": null,
   "metadata": {
    "colab": {
     "base_uri": "https://localhost:8080/",
     "height": 35
    },
    "colab_type": "code",
    "id": "dAK6aaTHJTJz",
    "outputId": "34cb4992-116f-46e3-bd58-f4d95f915ba3"
   },
   "outputs": [],
   "source": [
    "classes_names = []\n",
    "xml_list = []\n",
    "for xml_file in glob.glob(anno_path + \"/*.xml\"):\n",
    "    tree = ET.parse(xml_file)\n",
    "    root = tree.getroot()\n",
    "    for member in root.findall(\"object\"):\n",
    "        classes_names.append(member[0].text)\n",
    "classes_names = list(set(classes_names))\n",
    "classes_names.sort()\n",
    "classes_names"
   ]
  },
  {
   "cell_type": "code",
   "execution_count": null,
   "metadata": {
    "colab": {
     "base_uri": "https://localhost:8080/",
     "height": 290
    },
    "colab_type": "code",
    "id": "YBpJeiKPJTFr",
    "outputId": "78d9381f-937c-4f30-a4d9-b042cf9d953c"
   },
   "outputs": [],
   "source": [
    "import re\n",
    "\n",
    "fname = voc_file\n",
    "with open(fname) as f:\n",
    "    s = f.read()\n",
    "    s = re.sub('CLASSES = \\(.*?\\)',\n",
    "               'CLASSES = ({})'.format(\", \".join([\"\\'{}\\'\".format(name) for name in classes_names])), s, flags=re.S)\n",
    "with open(fname, 'w') as f:\n",
    "    f.write(s)\n",
    "!cat {voc_file}"
   ]
  },
  {
   "cell_type": "code",
   "execution_count": null,
   "metadata": {
    "colab": {
     "base_uri": "https://localhost:8080/",
     "height": 55
    },
    "colab_type": "code",
    "id": "85KCI0q7J7wE",
    "outputId": "82cd8944-7cac-422f-d7aa-a26a9a695a81"
   },
   "outputs": [],
   "source": [
    "import os\n",
    "config_fname = os.path.join(project_name, 'mmdetection', config_file)\n",
    "\n",
    "assert os.path.isfile(config_fname), '`{}` not exist'.format(config_fname)\n",
    "config_fname"
   ]
  },
  {
   "cell_type": "code",
   "execution_count": null,
   "metadata": {
    "colab": {},
    "colab_type": "code",
    "id": "7AcgLepsKFX-"
   },
   "outputs": [],
   "source": [
    "fname = config_fname\n",
    "with open(fname) as f:\n",
    "    s = f.read()\n",
    "    work_dir = re.findall(r\"work_dir = \\'(.*?)\\'\", s)[0]\n",
    "    # Update `num_classes` including `background` class.\n",
    "    s = re.sub('num_classes=.*?,',\n",
    "               'num_classes={},'.format(len(classes_names) + 1), s)\n",
    "    s = re.sub('ann_file=.*?\\],',\n",
    "               \"ann_file=data_root + 'VOC2007/ImageSets/Main/trainval.txt',\", s, flags=re.S)\n",
    "    s = re.sub('total_epochs = \\d+',\n",
    "               'total_epochs = {} #'.format(total_epochs), s)\n",
    "    if \"CocoDataset\" in s:\n",
    "        s = re.sub(\"dataset_type = 'CocoDataset'\",\n",
    "                   \"dataset_type = 'VOCDataset'\", s)\n",
    "        s = re.sub(\"data_root = 'data/coco/'\",\n",
    "                   \"data_root = 'data/VOCdevkit/'\", s)\n",
    "        s = re.sub(\"annotations/instances_train2017.json\",\n",
    "                   \"VOC2007/ImageSets/Main/trainval.txt\", s)\n",
    "        s = re.sub(\"annotations/instances_val2017.json\",\n",
    "                   \"VOC2007/ImageSets/Main/test.txt\", s)\n",
    "        s = re.sub(\"annotations/instances_val2017.json\",\n",
    "                   \"VOC2007/ImageSets/Main/test.txt\", s)\n",
    "        s = re.sub(\"train2017\", \"VOC2007\", s)\n",
    "        s = re.sub(\"val2017\", \"VOC2007\", s)\n",
    "    else:\n",
    "        s = re.sub('img_prefix=.*?\\],',\n",
    "                   \"img_prefix=data_root + 'VOC2007/',\".format(total_epochs), s)\n",
    "with open(fname, 'w') as f:\n",
    "    f.write(s)\n",
    "!cat {config_fname}"
   ]
  },
  {
   "cell_type": "code",
   "execution_count": null,
   "metadata": {
    "colab": {},
    "colab_type": "code",
    "id": "Hr-UALVtKFeX"
   },
   "outputs": [],
   "source": [
    "%cd {mmdetection_dir}\n",
    "!python setup.py install"
   ]
  },
  {
   "cell_type": "code",
   "execution_count": null,
   "metadata": {
    "colab": {
     "base_uri": "https://localhost:8080/",
     "height": 35
    },
    "colab_type": "code",
    "id": "LeuRcv-ZTSLS",
    "outputId": "a29ffb54-a784-42d3-de39-0562395a09bd"
   },
   "outputs": [],
   "source": [
    "os.makedirs(\"data/VOCdevkit\", exist_ok=True)\n",
    "voc2007_dir = os.path.join(project_name, \"data/VOC2007\")\n",
    "os.system(\"ln -s {} data/VOCdevkit\".format(voc2007_dir))"
   ]
  },
  {
   "cell_type": "code",
   "execution_count": null,
   "metadata": {
    "colab": {
     "base_uri": "https://localhost:8080/",
     "height": 219
    },
    "colab_type": "code",
    "id": "xm-a0NkgKb4m",
    "outputId": "459cc2dd-4ba1-44e5-e4f0-79349cbf3bde"
   },
   "outputs": [],
   "source": [
    "!python tools/train.py {config_fname}"
   ]
  },
  {
   "cell_type": "code",
   "execution_count": null,
   "metadata": {
    "colab": {
     "base_uri": "https://localhost:8080/",
     "height": 55
    },
    "colab_type": "code",
    "id": "yFrN7i2Qpr1H",
    "outputId": "71469028-097d-4533-829e-3a0592b062dd"
   },
   "outputs": [],
   "source": [
    "checkpoint_file = os.path.join(mmdetection_dir, work_dir, \"latest.pth\")\n",
    "assert os.path.isfile(\n",
    "    checkpoint_file), '`{}` not exist'.format(checkpoint_file)\n",
    "checkpoint_file"
   ]
  },
  {
   "cell_type": "markdown",
   "metadata": {
    "colab_type": "text",
    "id": "4uCmYPNCVpqP"
   },
   "source": [
    "## Test predict\n",
    "\n",
    "Turn down the `score_thr` if you think the model is missing any bbox.\n",
    "Turn up the `score_thr` if you see too much overlapping bboxes with low scores."
   ]
  },
  {
   "cell_type": "code",
   "execution_count": null,
   "metadata": {
    "colab": {},
    "colab_type": "code",
    "id": "FNTFhKuVVhMr"
   },
   "outputs": [],
   "source": [
    "import time\n",
    "import matplotlib\n",
    "import matplotlib.pylab as plt\n",
    "plt.rcParams[\"axes.grid\"] = False\n",
    "\n",
    "import mmcv\n",
    "from mmcv.runner import load_checkpoint\n",
    "import mmcv.visualization.image as mmcv_image\n",
    "# fix for colab\n",
    "\n",
    "\n",
    "def imshow(img, win_name='', wait_time=0): plt.figure(\n",
    "    figsize=(50, 50)); plt.imshow(img)\n",
    "\n",
    "\n",
    "mmcv_image.imshow = imshow\n",
    "from mmdet.models import build_detector\n",
    "from mmdet.apis import inference_detector, show_result, init_detector"
   ]
  },
  {
   "cell_type": "code",
   "execution_count": null,
   "metadata": {
    "colab": {
     "base_uri": "https://localhost:8080/",
     "height": 35
    },
    "colab_type": "code",
    "id": "qVJBetouno4q",
    "outputId": "43f80734-86a6-4261-b4ea-ecefd0726c47"
   },
   "outputs": [],
   "source": [
    "%cd {mmdetection_dir}\n",
    "\n",
    "score_thr = 0.8\n",
    "\n",
    "# build the model from a config file and a checkpoint file\n",
    "model = init_detector(config_fname, checkpoint_file)\n",
    "\n",
    "# test a single image and show the results\n",
    "img = 'data/VOCdevkit/VOC2007/JPEGImages/15.jpg'\n",
    "result = inference_detector(model, img)\n",
    "show_result(img, result, model.CLASSES,\n",
    "            score_thr=score_thr, out_file=\"result.jpg\")"
   ]
  },
  {
   "cell_type": "code",
   "execution_count": null,
   "metadata": {
    "colab": {
     "base_uri": "https://localhost:8080/",
     "height": 617
    },
    "colab_type": "code",
    "id": "smM4hrXBo9_E",
    "outputId": "92a8445e-2941-423b-b6b0-ad611b795a8c"
   },
   "outputs": [],
   "source": [
    "from IPython.display import Image\n",
    "Image(filename='result.jpg')"
   ]
  },
  {
   "cell_type": "markdown",
   "metadata": {
    "colab_type": "text",
    "id": "1xXO9qELNnOw"
   },
   "source": [
    "## Download the config file"
   ]
  },
  {
   "cell_type": "code",
   "execution_count": null,
   "metadata": {
    "colab": {},
    "colab_type": "code",
    "id": "ufug_6bONd9d"
   },
   "outputs": [],
   "source": [
    "from google.colab import files\n",
    "\n",
    "files.download(config_fname)"
   ]
  },
  {
   "cell_type": "markdown",
   "metadata": {
    "colab_type": "text",
    "id": "R2YcLN7GObJZ"
   },
   "source": [
    "## Download checkpoint file."
   ]
  },
  {
   "cell_type": "markdown",
   "metadata": {
    "colab_type": "text",
    "id": "rMCrafjhN61s"
   },
   "source": [
    "### Option1 : upload the checkpoint file to your Google Drive\n",
    "Then download it from your Google Drive to local file system.\n",
    "\n",
    "During this step, you will be prompted to enter the token."
   ]
  },
  {
   "cell_type": "code",
   "execution_count": null,
   "metadata": {
    "colab": {},
    "colab_type": "code",
    "id": "eiRj6p4vN5iT"
   },
   "outputs": [],
   "source": [
    "# Install the PyDrive wrapper & import libraries.\n",
    "# This only needs to be done once in a notebook.\n",
    "!pip install -U -q PyDrive\n",
    "from pydrive.auth import GoogleAuth\n",
    "from pydrive.drive import GoogleDrive\n",
    "from google.colab import auth\n",
    "from oauth2client.client import GoogleCredentials\n",
    "\n",
    "\n",
    "# Authenticate and create the PyDrive client.\n",
    "# This only needs to be done once in a notebook.\n",
    "auth.authenticate_user()\n",
    "gauth = GoogleAuth()\n",
    "gauth.credentials = GoogleCredentials.get_application_default()\n",
    "drive = GoogleDrive(gauth)\n",
    "\n",
    "fname = os.path.basename(checkpoint_file)\n",
    "# Create & upload a text file.\n",
    "uploaded = drive.CreateFile({'title': fname})\n",
    "uploaded.SetContentFile(checkpoint_file)\n",
    "uploaded.Upload()\n",
    "print('Uploaded file with ID {}'.format(uploaded.get('id')))"
   ]
  },
  {
   "cell_type": "markdown",
   "metadata": {
    "colab_type": "text",
    "id": "bqC9kHuVOOw6"
   },
   "source": [
    "### Option2 :  Download the checkpoint file directly to your local file system\n",
    "This method may not be stable when downloading large files like the model checkpoint file. Try **option 1** instead if not working."
   ]
  },
  {
   "cell_type": "code",
   "execution_count": null,
   "metadata": {
    "colab": {},
    "colab_type": "code",
    "id": "AQ5RHYbTOVnN"
   },
   "outputs": [],
   "source": [
    "files.download(checkpoint_file)"
   ]
  }
 ],
 "metadata": {
  "accelerator": "GPU",
  "colab": {
   "collapsed_sections": [],
   "include_colab_link": true,
   "name": "mmdetection_train_custom_data.ipynb",
   "provenance": []
  },
  "kernelspec": {
   "display_name": "Python 3",
   "language": "python",
   "name": "python3"
  },
  "language_info": {
   "codemirror_mode": {
    "name": "ipython",
    "version": 3
   },
   "file_extension": ".py",
   "mimetype": "text/x-python",
   "name": "python",
   "nbconvert_exporter": "python",
   "pygments_lexer": "ipython3",
   "version": "3.7.6"
  }
 },
 "nbformat": 4,
 "nbformat_minor": 1
}
